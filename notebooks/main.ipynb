{
 "cells": [
  {
   "cell_type": "code",
   "execution_count": 1,
   "id": "c75d5700",
   "metadata": {},
   "outputs": [],
   "source": [
    "from pyspark.sql import SparkSession\n",
    "# import pandas as pd # Remove a importação de pandas se não for mais necessário\n",
    "\n",
    "# Cria uma sessão Spark. O appName é o nome da sua aplicação Spark.\n",
    "spark = SparkSession.builder.appName(\"ReadParquet\").getOrCreate()"
   ]
  },
  {
   "cell_type": "code",
   "execution_count": 2,
   "id": "e1dd3271",
   "metadata": {},
   "outputs": [],
   "source": [
    "file_path = r'..\\data\\processed\\base_consolidada.parquet'\n",
    "\n",
    "spark_df = spark.read.parquet(file_path)"
   ]
  },
  {
   "cell_type": "code",
   "execution_count": 3,
   "id": "ca6c1a3b",
   "metadata": {},
   "outputs": [
    {
     "name": "stdout",
     "output_type": "stream",
     "text": [
      "+-------------------+-----------+--------------+-------+-------------------+-------------------+--------------+----------------+--------------+--------+------------------+------------------+------------------+------------------+------------------+-------------------+-----------------+--------------------+-----------------+-----+-------------------+--------------------+--------------------+\n",
      "|                pdv|    premise| categoria_pdv|zipcode|  internal_store_id|internal_product_id|distributor_id|transaction_date|reference_date|quantity|       gross_value|         net_value|      gross_profit|          discount|             taxes|            produto|        categoria|           descricao|            tipos|label|       subcategoria|               marca|          fabricante|\n",
      "+-------------------+-----------+--------------+-------+-------------------+-------------------+--------------+----------------+--------------+--------+------------------+------------------+------------------+------------------+------------------+-------------------+-----------------+--------------------+-----------------+-----+-------------------+--------------------+--------------------+\n",
      "|7384367747233276219|Off Premise|Package/Liquor|80905.0|7384367747233276219| 328903483604537190|             9|      2022-07-13|    2022-07-01|     1.0|            38.125|         37.890625|10.042625427246094| 3.950000047683716|          0.234375| 328903483604537190|          Package|BUD LIGHT CHELADA...|          Package| Core|          Specialty|Bud Light Chelada...|AB Anheuser Busch...|\n",
      "|3536908514005606262|Off Premise|Package/Liquor|80239.0|3536908514005606262|5418855670645487653|             5|      2022-03-21|    2022-03-01|     6.0|            107.25|106.44000244140625| 24.73200225830078|17.100000381469727|0.8100000023841858|5418855670645487653|          Package|MICHELOB ULTRA 18...|          Package| Core|              Lager|      Michelob Ultra|AB Anheuser Busch...|\n",
      "|3138231730993449825|Off Premise|Package/Liquor|80634.0|3138231730993449825|1087005562675741887|             6|      2022-09-06|    2022-09-01|     3.0|            56.625|56.220001220703125|14.124001502990723|              5.25|0.4050000011920929|1087005562675741887|          Package|BUD LIGHT LIME 18...|          Package| Core|              Lager|      Bud Light Lime|AB Anheuser Busch...|\n",
      "|3681167389484217654|Off Premise|Package/Liquor|80226.0|3681167389484217654|1401422983880045188|             5|      2022-09-11|    2022-09-01|   129.0|1037.1600227355957|1037.1600227355957| 156.3480257987976|  479.880006313324|               0.0|1401422983880045188|Distilled Spirits|99 BUTTERSCOTCH 1...|Allocated Spirits| NULL|Liqueurs & Cordials|     99 Butterscotch|     Sazerac Spirits|\n",
      "|7762413312337359369|Off Premise|   Convenience|30096.0|7762413312337359369|6614994347738381720|             4|      2022-02-18|    2022-02-01|     1.0|26.229999542236328|23.950241088867188| 6.550240993499756|               0.0|2.2797579765319824|6614994347738381720|          Package|NB VOODOO RANGER ...|          Package| Core|                IPA|New Belgium Voodo...|      NB New Belgium|\n",
      "+-------------------+-----------+--------------+-------+-------------------+-------------------+--------------+----------------+--------------+--------+------------------+------------------+------------------+------------------+------------------+-------------------+-----------------+--------------------+-----------------+-----+-------------------+--------------------+--------------------+\n",
      "only showing top 5 rows\n",
      "\n"
     ]
    }
   ],
   "source": [
    "spark_df.show(5)"
   ]
  },
  {
   "cell_type": "code",
   "execution_count": 4,
   "id": "2c0d1800",
   "metadata": {},
   "outputs": [],
   "source": [
    "from datetime import datetime, timedelta\n",
    "\n",
    "def calculate_week_of_month(transaction_date, reference_date):\n",
    "    \"\"\"\n",
    "    Calculates the week number within the month for a given transaction date.\n",
    "\n",
    "    Args:\n",
    "        transaction_date (date): The date of the transaction (YYYY-MM-DD).\n",
    "        reference_date (date): A reference date within the month (YYYY-MM-DD).\n",
    "\n",
    "    Returns:\n",
    "        int: The week number within the month (starting from 1).\n",
    "    \"\"\"\n",
    "    # Ensure dates are datetime objects\n",
    "    if isinstance(transaction_date, str):\n",
    "        transaction_date = datetime.strptime(transaction_date, '%Y-%m-%d').date()\n",
    "    if isinstance(reference_date, str):\n",
    "        reference_date = datetime.strptime(reference_date, '%Y-%m-%d').date()\n",
    "\n",
    "    # Convert reference_date to the first day of the month\n",
    "    first_day_of_month = reference_date.replace(day=1)\n",
    "\n",
    "    # Calculate the difference in days\n",
    "    day_difference = (transaction_date - first_day_of_month).days\n",
    "\n",
    "    # Calculate the week number (starting from 1)\n",
    "    week_number = (day_difference // 7) + 1\n",
    "\n",
    "    return week_number"
   ]
  },
  {
   "cell_type": "code",
   "execution_count": 5,
   "id": "11a00d2f",
   "metadata": {},
   "outputs": [],
   "source": [
    "from pyspark.sql.functions import udf, col\n",
    "from pyspark.sql.types import IntegerType\n",
    "\n",
    "# Define the Spark UDF\n",
    "calculate_week_of_month_udf = udf(calculate_week_of_month, IntegerType(), useArrow=True)\n",
    "\n",
    "# Apply the UDF to the DataFrame to create the new column\n",
    "joined_df = spark_df.withColumn(\n",
    "    'week_of_month',\n",
    "    calculate_week_of_month_udf(col('transaction_date'), col('reference_date'))\n",
    ")"
   ]
  },
  {
   "cell_type": "code",
   "execution_count": 8,
   "id": "4852a8f7",
   "metadata": {},
   "outputs": [
    {
     "name": "stdout",
     "output_type": "stream",
     "text": [
      "+-------------------+-----------+--------------+-------+-------------------+-------------------+--------------+----------------+--------------+--------+------------------+------------------+------------------+------------------+------------------+-------------------+-----------------+----------------------------------------+-----------------+-----+-------------------+--------------------------------------+---------------------+-------------+\n",
      "|pdv                |premise    |categoria_pdv |zipcode|internal_store_id  |internal_product_id|distributor_id|transaction_date|reference_date|quantity|gross_value       |net_value         |gross_profit      |discount          |taxes             |produto            |categoria        |descricao                               |tipos            |label|subcategoria       |marca                                 |fabricante           |week_of_month|\n",
      "+-------------------+-----------+--------------+-------+-------------------+-------------------+--------------+----------------+--------------+--------+------------------+------------------+------------------+------------------+------------------+-------------------+-----------------+----------------------------------------+-----------------+-----+-------------------+--------------------------------------+---------------------+-------------+\n",
      "|7384367747233276219|Off Premise|Package/Liquor|80905.0|7384367747233276219|328903483604537190 |9             |2022-07-13      |2022-07-01    |1.0     |38.125            |37.890625         |10.042625427246094|3.950000047683716 |0.234375          |328903483604537190 |Package          |BUD LIGHT CHELADA FUEGO 15/25 CN        |Package          |Core |Specialty          |Bud Light Chelada Fuego               |AB Anheuser Busch Inc|2            |\n",
      "|3536908514005606262|Off Premise|Package/Liquor|80239.0|3536908514005606262|5418855670645487653|5             |2022-03-21      |2022-03-01    |6.0     |107.25            |106.44000244140625|24.73200225830078 |17.100000381469727|0.8100000023841858|5418855670645487653|Package          |MICHELOB ULTRA 18/12 CN                 |Package          |Core |Lager              |Michelob Ultra                        |AB Anheuser Busch Inc|3            |\n",
      "|3138231730993449825|Off Premise|Package/Liquor|80634.0|3138231730993449825|1087005562675741887|6             |2022-09-06      |2022-09-01    |3.0     |56.625            |56.220001220703125|14.124001502990723|5.25              |0.4050000011920929|1087005562675741887|Package          |BUD LIGHT LIME 18/12 CN                 |Package          |Core |Lager              |Bud Light Lime                        |AB Anheuser Busch Inc|1            |\n",
      "|3681167389484217654|Off Premise|Package/Liquor|80226.0|3681167389484217654|1401422983880045188|5             |2022-09-11      |2022-09-01    |129.0   |1037.1600227355957|1037.1600227355957|156.3480257987976 |479.880006313324  |0.0               |1401422983880045188|Distilled Spirits|99 BUTTERSCOTCH 12/10/50ML 99PF         |Allocated Spirits|NULL |Liqueurs & Cordials|99 Butterscotch                       |Sazerac Spirits      |2            |\n",
      "|7762413312337359369|Off Premise|Convenience   |30096.0|7762413312337359369|6614994347738381720|4             |2022-02-18      |2022-02-01    |1.0     |26.229999542236328|23.950241088867188|6.550240993499756 |0.0               |2.2797579765319824|6614994347738381720|Package          |NB VOODOO RANGER IMPERIAL IPA 15/19.2 CN|Package          |Core |IPA                |New Belgium Voodoo Ranger Imperial IPA|NB New Belgium       |3            |\n",
      "+-------------------+-----------+--------------+-------+-------------------+-------------------+--------------+----------------+--------------+--------+------------------+------------------+------------------+------------------+------------------+-------------------+-----------------+----------------------------------------+-----------------+-----+-------------------+--------------------------------------+---------------------+-------------+\n",
      "only showing top 5 rows\n",
      "\n"
     ]
    }
   ],
   "source": [
    "joined_df.show(5, truncate=False)"
   ]
  },
  {
   "cell_type": "code",
   "execution_count": null,
   "id": "244ee951",
   "metadata": {},
   "outputs": [
    {
     "data": {
      "text/plain": [
       "pyspark.sql.dataframe.DataFrame"
      ]
     },
     "execution_count": 7,
     "metadata": {},
     "output_type": "execute_result"
    }
   ],
   "source": []
  }
 ],
 "metadata": {
  "kernelspec": {
   "display_name": ".venv",
   "language": "python",
   "name": "python3"
  },
  "language_info": {
   "codemirror_mode": {
    "name": "ipython",
    "version": 3
   },
   "file_extension": ".py",
   "mimetype": "text/x-python",
   "name": "python",
   "nbconvert_exporter": "python",
   "pygments_lexer": "ipython3",
   "version": "3.10.9"
  }
 },
 "nbformat": 4,
 "nbformat_minor": 5
}
